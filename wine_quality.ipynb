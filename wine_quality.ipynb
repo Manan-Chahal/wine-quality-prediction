{
 "cells": [
  {
   "cell_type": "code",
   "execution_count": null,
   "id": "59b55277",
   "metadata": {},
   "outputs": [],
   "source": [
    "# Wine Quality Prediction\n",
    "\n",
    "import numpy as np\n",
    "import pandas as pd\n",
    "import matplotlib.pyplot as plt\n",
    "import seaborn as sb\n",
    "\n",
    "from sklearn.model_selection import train_test_split\n",
    "from sklearn.preprocessing import MinMaxScaler\n",
    "from sklearn import metrics\n",
    "from sklearn.svm import SVC\n",
    "from xgboost import XGBClassifier\n",
    "from sklearn.linear_model import LogisticRegression\n",
    "from sklearn.metrics import confusion_matrix, ConfusionMatrixDisplay\n",
    "from sklearn.impute import SimpleImputer\n",
    "import warnings\n",
    "warnings.filterwarnings('ignore')\n"
   ]
  },
  {
   "cell_type": "code",
   "execution_count": null,
   "id": "5ec46043",
   "metadata": {},
   "outputs": [],
   "source": [
    "# Load dataset\n",
    "df = pd.read_csv('winequality.csv')\n",
    "df.head()\n"
   ]
  },
  {
   "cell_type": "code",
   "execution_count": null,
   "id": "84287fcf",
   "metadata": {},
   "outputs": [],
   "source": [
    "df.info()\n"
   ]
  },
  {
   "cell_type": "code",
   "execution_count": null,
   "id": "defb1252",
   "metadata": {},
   "outputs": [],
   "source": [
    "df.describe().T\n"
   ]
  },
  {
   "cell_type": "code",
   "execution_count": null,
   "id": "0b5d9c11",
   "metadata": {},
   "outputs": [],
   "source": [
    "df.isnull().sum()\n"
   ]
  },
  {
   "cell_type": "code",
   "execution_count": null,
   "id": "ab4bbb54",
   "metadata": {},
   "outputs": [],
   "source": [
    "# Fill missing values with column mean\n",
    "for col in df.columns:\n",
    "    if df[col].isnull().sum() > 0:\n",
    "        df[col] = df[col].fillna(df[col].mean())\n",
    "\n",
    "df.isnull().sum().sum()  # Confirm no missing values\n"
   ]
  },
  {
   "cell_type": "code",
   "execution_count": null,
   "id": "77e42128",
   "metadata": {},
   "outputs": [],
   "source": [
    "df.hist(bins=20, figsize=(10, 10))\n",
    "plt.show()\n"
   ]
  },
  {
   "cell_type": "code",
   "execution_count": null,
   "id": "f7c53f11",
   "metadata": {},
   "outputs": [],
   "source": [
    "plt.bar(df['quality'], df['alcohol'])\n",
    "plt.xlabel('Quality')\n",
    "plt.ylabel('Alcohol')\n",
    "plt.show()\n"
   ]
  },
  {
   "cell_type": "code",
   "execution_count": null,
   "id": "f634c390",
   "metadata": {},
   "outputs": [],
   "source": [
    "# Convert object columns to numeric (if any)\n",
    "for col in df.columns:\n",
    "    if df[col].dtype == 'object':\n",
    "        df[col] = pd.to_numeric(df[col], errors='coerce')\n"
   ]
  },
  {
   "cell_type": "code",
   "execution_count": null,
   "id": "8d321ced",
   "metadata": {},
   "outputs": [],
   "source": [
    "plt.figure(figsize=(12, 12))\n",
    "sb.heatmap(df.corr() > 0.7, annot=True, cbar=False)\n",
    "plt.show()\n"
   ]
  },
  {
   "cell_type": "code",
   "execution_count": null,
   "id": "7ef02e6f",
   "metadata": {},
   "outputs": [],
   "source": [
    "df = df.drop('total sulfur dioxide', axis=1)\n",
    "df['best quality'] = [1 if x > 5 else 0 for x in df.quality]\n"
   ]
  },
  {
   "cell_type": "code",
   "execution_count": null,
   "id": "fd9786a6",
   "metadata": {},
   "outputs": [],
   "source": [
    "features = df.drop(['quality', 'best quality'], axis=1)\n",
    "target = df['best quality']\n"
   ]
  },
  {
   "cell_type": "code",
   "execution_count": null,
   "id": "20b7d254",
   "metadata": {},
   "outputs": [],
   "source": [
    "xtrain, xtest, ytrain, ytest = train_test_split(features, target, test_size=0.2, random_state=40)\n",
    "\n",
    "imputer = SimpleImputer(strategy='mean')\n",
    "xtrain = imputer.fit_transform(xtrain)\n",
    "xtest = imputer.transform(xtest)\n"
   ]
  },
  {
   "cell_type": "code",
   "execution_count": null,
   "id": "1a7deb09",
   "metadata": {},
   "outputs": [],
   "source": [
    "models = [LogisticRegression(), XGBClassifier(), SVC(kernel='rbf')]\n",
    "\n",
    "for model in models:\n",
    "    model.fit(xtrain, ytrain)\n",
    "    print(f'{model}:\\nTrain AUC: {metrics.roc_auc_score(ytrain, model.predict(xtrain))}')\n",
    "    print(f'Validation AUC: {metrics.roc_auc_score(ytest, model.predict(xtest))}\\n')\n"
   ]
  },
  {
   "cell_type": "code",
   "execution_count": null,
   "id": "87d72f05",
   "metadata": {},
   "outputs": [],
   "source": [
    "cm = confusion_matrix(ytest, models[1].predict(xtest))\n",
    "disp = ConfusionMatrixDisplay(confusion_matrix=cm, display_labels=models[1].classes_)\n",
    "disp.plot()\n",
    "plt.show()\n"
   ]
  },
  {
   "cell_type": "code",
   "execution_count": null,
   "id": "7cbc1dae",
   "metadata": {},
   "outputs": [],
   "source": [
    "print(metrics.classification_report(ytest, models[1].predict(xtest)))\n"
   ]
  }
 ],
 "metadata": {
  "language_info": {
   "name": "python"
  }
 },
 "nbformat": 4,
 "nbformat_minor": 5
}
